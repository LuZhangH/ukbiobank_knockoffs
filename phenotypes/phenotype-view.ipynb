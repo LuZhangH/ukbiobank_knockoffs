{
 "cells": [
  {
   "cell_type": "code",
   "execution_count": 1,
   "metadata": {},
   "outputs": [],
   "source": [
    ".libPaths(\"/home/groups/candes/Software/miniconda2/envs/ukb/lib/R/library\")\n",
    "suppressMessages(library(tidyverse))\n",
    "suppressMessages(library(superheat))\n",
    "suppressMessages(library(bigsnpr))\n",
    "\n",
    "scratch <- \"/scratch/PI/candes/ukbiobank_tmp\""
   ]
  },
  {
   "cell_type": "markdown",
   "metadata": {},
   "source": [
    "## Load phenotypes"
   ]
  },
  {
   "cell_type": "code",
   "execution_count": 2,
   "metadata": {},
   "outputs": [
    {
     "data": {
      "text/html": [
       "<table>\n",
       "<thead><tr><th scope=col>FID</th><th scope=col>IID</th><th scope=col>sex</th><th scope=col>age</th><th scope=col>height</th><th scope=col>bmi</th><th scope=col>waist</th><th scope=col>dbp</th><th scope=col>sbp</th><th scope=col>platelet</th><th scope=col>⋯</th><th scope=col>diabetes</th><th scope=col>hypothyroidism</th><th scope=col>respiratory</th><th scope=col>glaucoma</th><th scope=col>PC.1</th><th scope=col>PC.2</th><th scope=col>PC.3</th><th scope=col>PC.4</th><th scope=col>PC.5</th><th scope=col>age.sq</th></tr></thead>\n",
       "<tbody>\n",
       "\t<tr><td>3831650   </td><td>3831650   </td><td>1         </td><td>63        </td><td>152.0     </td><td>28.7829   </td><td> 95.0     </td><td>  NA      </td><td>   NA     </td><td>191.0     </td><td>⋯         </td><td>1         </td><td>1         </td><td>1         </td><td>1         </td><td> -6.79679 </td><td>-5.72467  </td><td>-0.8897750</td><td> 1.6425900</td><td>-9.094820 </td><td>3969      </td></tr>\n",
       "\t<tr><td>1585880   </td><td>1585880   </td><td>2         </td><td>63        </td><td>186.5     </td><td>28.8365   </td><td>107.0     </td><td>90.0      </td><td>131.0     </td><td>169.8     </td><td>⋯         </td><td>1         </td><td>2         </td><td>1         </td><td>1         </td><td>-13.98880 </td><td> 4.52334  </td><td>-0.5831590</td><td> 4.2313600</td><td> 8.521210 </td><td>3969      </td></tr>\n",
       "\t<tr><td>1636662   </td><td>1636662   </td><td>2         </td><td>62        </td><td>173.0     </td><td>21.5844   </td><td> 91.0     </td><td>80.0      </td><td>128.0     </td><td>282.5     </td><td>⋯         </td><td>1         </td><td>1         </td><td>1         </td><td>1         </td><td>-12.96680 </td><td> 4.37347  </td><td>-0.0836815</td><td> 3.7829700</td><td> 3.658520 </td><td>3844      </td></tr>\n",
       "\t<tr><td>2167238   </td><td>2167238   </td><td>2         </td><td>62        </td><td>179.0     </td><td>30.2737   </td><td>108.5     </td><td>83.0      </td><td>133.5     </td><td>182.8     </td><td>⋯         </td><td>2         </td><td>1         </td><td>2         </td><td>1         </td><td>-13.77630 </td><td> 3.36748  </td><td>-0.5683860</td><td> 0.3270650</td><td>-7.542690 </td><td>3844      </td></tr>\n",
       "\t<tr><td>4462151   </td><td>4462151   </td><td>1         </td><td>42        </td><td>171.0     </td><td>20.2113   </td><td> 78.5     </td><td>84.5      </td><td>124.5     </td><td>294.9     </td><td>⋯         </td><td>1         </td><td>1         </td><td>1         </td><td>1         </td><td>-13.19000 </td><td> 4.46520  </td><td>-0.5579330</td><td>-0.0283174</td><td> 0.944134 </td><td>1764      </td></tr>\n",
       "\t<tr><td>2268936   </td><td>2268936   </td><td>2         </td><td>40        </td><td>189.0     </td><td>24.7194   </td><td> 98.5     </td><td>78.5      </td><td>124.0     </td><td>274.4     </td><td>⋯         </td><td>1         </td><td>1         </td><td>2         </td><td>1         </td><td>-14.79510 </td><td> 4.46365  </td><td>-0.5391410</td><td> 1.6522700</td><td>-3.848240 </td><td>1600      </td></tr>\n",
       "</tbody>\n",
       "</table>\n"
      ],
      "text/latex": [
       "\\begin{tabular}{r|llllllllllllllllllllllllll}\n",
       " FID & IID & sex & age & height & bmi & waist & dbp & sbp & platelet & ⋯ & diabetes & hypothyroidism & respiratory & glaucoma & PC.1 & PC.2 & PC.3 & PC.4 & PC.5 & age.sq\\\\\n",
       "\\hline\n",
       "\t 3831650    & 3831650    & 1          & 63         & 152.0      & 28.7829    &  95.0      &   NA       &    NA      & 191.0      & ⋯          & 1          & 1          & 1          & 1          &  -6.79679  & -5.72467   & -0.8897750 &  1.6425900 & -9.094820  & 3969      \\\\\n",
       "\t 1585880    & 1585880    & 2          & 63         & 186.5      & 28.8365    & 107.0      & 90.0       & 131.0      & 169.8      & ⋯          & 1          & 2          & 1          & 1          & -13.98880  &  4.52334   & -0.5831590 &  4.2313600 &  8.521210  & 3969      \\\\\n",
       "\t 1636662    & 1636662    & 2          & 62         & 173.0      & 21.5844    &  91.0      & 80.0       & 128.0      & 282.5      & ⋯          & 1          & 1          & 1          & 1          & -12.96680  &  4.37347   & -0.0836815 &  3.7829700 &  3.658520  & 3844      \\\\\n",
       "\t 2167238    & 2167238    & 2          & 62         & 179.0      & 30.2737    & 108.5      & 83.0       & 133.5      & 182.8      & ⋯          & 2          & 1          & 2          & 1          & -13.77630  &  3.36748   & -0.5683860 &  0.3270650 & -7.542690  & 3844      \\\\\n",
       "\t 4462151    & 4462151    & 1          & 42         & 171.0      & 20.2113    &  78.5      & 84.5       & 124.5      & 294.9      & ⋯          & 1          & 1          & 1          & 1          & -13.19000  &  4.46520   & -0.5579330 & -0.0283174 &  0.944134  & 1764      \\\\\n",
       "\t 2268936    & 2268936    & 2          & 40         & 189.0      & 24.7194    &  98.5      & 78.5       & 124.0      & 274.4      & ⋯          & 1          & 1          & 2          & 1          & -14.79510  &  4.46365   & -0.5391410 &  1.6522700 & -3.848240  & 1600      \\\\\n",
       "\\end{tabular}\n"
      ],
      "text/markdown": [
       "\n",
       "| FID | IID | sex | age | height | bmi | waist | dbp | sbp | platelet | ⋯ | diabetes | hypothyroidism | respiratory | glaucoma | PC.1 | PC.2 | PC.3 | PC.4 | PC.5 | age.sq |\n",
       "|---|---|---|---|---|---|---|---|---|---|---|---|---|---|---|---|---|---|---|---|---|\n",
       "| 3831650    | 3831650    | 1          | 63         | 152.0      | 28.7829    |  95.0      |   NA       |    NA      | 191.0      | ⋯          | 1          | 1          | 1          | 1          |  -6.79679  | -5.72467   | -0.8897750 |  1.6425900 | -9.094820  | 3969       |\n",
       "| 1585880    | 1585880    | 2          | 63         | 186.5      | 28.8365    | 107.0      | 90.0       | 131.0      | 169.8      | ⋯          | 1          | 2          | 1          | 1          | -13.98880  |  4.52334   | -0.5831590 |  4.2313600 |  8.521210  | 3969       |\n",
       "| 1636662    | 1636662    | 2          | 62         | 173.0      | 21.5844    |  91.0      | 80.0       | 128.0      | 282.5      | ⋯          | 1          | 1          | 1          | 1          | -12.96680  |  4.37347   | -0.0836815 |  3.7829700 |  3.658520  | 3844       |\n",
       "| 2167238    | 2167238    | 2          | 62         | 179.0      | 30.2737    | 108.5      | 83.0       | 133.5      | 182.8      | ⋯          | 2          | 1          | 2          | 1          | -13.77630  |  3.36748   | -0.5683860 |  0.3270650 | -7.542690  | 3844       |\n",
       "| 4462151    | 4462151    | 1          | 42         | 171.0      | 20.2113    |  78.5      | 84.5       | 124.5      | 294.9      | ⋯          | 1          | 1          | 1          | 1          | -13.19000  |  4.46520   | -0.5579330 | -0.0283174 |  0.944134  | 1764       |\n",
       "| 2268936    | 2268936    | 2          | 40         | 189.0      | 24.7194    |  98.5      | 78.5       | 124.0      | 274.4      | ⋯          | 1          | 1          | 2          | 1          | -14.79510  |  4.46365   | -0.5391410 |  1.6522700 | -3.848240  | 1600       |\n",
       "\n"
      ],
      "text/plain": [
       "  FID     IID     sex age height bmi     waist dbp  sbp   platelet ⋯ diabetes\n",
       "1 3831650 3831650 1   63  152.0  28.7829  95.0   NA    NA 191.0    ⋯ 1       \n",
       "2 1585880 1585880 2   63  186.5  28.8365 107.0 90.0 131.0 169.8    ⋯ 1       \n",
       "3 1636662 1636662 2   62  173.0  21.5844  91.0 80.0 128.0 282.5    ⋯ 1       \n",
       "4 2167238 2167238 2   62  179.0  30.2737 108.5 83.0 133.5 182.8    ⋯ 2       \n",
       "5 4462151 4462151 1   42  171.0  20.2113  78.5 84.5 124.5 294.9    ⋯ 1       \n",
       "6 2268936 2268936 2   40  189.0  24.7194  98.5 78.5 124.0 274.4    ⋯ 1       \n",
       "  hypothyroidism respiratory glaucoma PC.1      PC.2     PC.3       PC.4      \n",
       "1 1              1           1         -6.79679 -5.72467 -0.8897750  1.6425900\n",
       "2 2              1           1        -13.98880  4.52334 -0.5831590  4.2313600\n",
       "3 1              1           1        -12.96680  4.37347 -0.0836815  3.7829700\n",
       "4 1              2           1        -13.77630  3.36748 -0.5683860  0.3270650\n",
       "5 1              1           1        -13.19000  4.46520 -0.5579330 -0.0283174\n",
       "6 1              2           1        -14.79510  4.46365 -0.5391410  1.6522700\n",
       "  PC.5      age.sq\n",
       "1 -9.094820 3969  \n",
       "2  8.521210 3969  \n",
       "3  3.658520 3844  \n",
       "4 -7.542690 3844  \n",
       "5  0.944134 1764  \n",
       "6 -3.848240 1600  "
      ]
     },
     "metadata": {},
     "output_type": "display_data"
    }
   ],
   "source": [
    "# Load phenotype table\n",
    "pheno.file <- sprintf(\"%s/phenotypes/phenotypes.tab\", scratch)\n",
    "Phenotypes <- read_tsv(pheno.file, col_types=cols())\n",
    "Phenotypes %>% head()"
   ]
  },
  {
   "cell_type": "code",
   "execution_count": 3,
   "metadata": {},
   "outputs": [
    {
     "data": {
      "text/html": [
       "<ol class=list-inline>\n",
       "\t<li>'FID'</li>\n",
       "\t<li>'IID'</li>\n",
       "\t<li>'sex'</li>\n",
       "\t<li>'age'</li>\n",
       "\t<li>'height'</li>\n",
       "\t<li>'bmi'</li>\n",
       "\t<li>'waist'</li>\n",
       "\t<li>'dbp'</li>\n",
       "\t<li>'sbp'</li>\n",
       "\t<li>'platelet'</li>\n",
       "\t<li>'redcell'</li>\n",
       "\t<li>'whitecell'</li>\n",
       "\t<li>'eosinophil'</li>\n",
       "\t<li>'redwidth'</li>\n",
       "\t<li>'plateletwidth'</li>\n",
       "\t<li>'cvd'</li>\n",
       "\t<li>'diabetes'</li>\n",
       "\t<li>'hypothyroidism'</li>\n",
       "\t<li>'respiratory'</li>\n",
       "\t<li>'glaucoma'</li>\n",
       "\t<li>'PC.1'</li>\n",
       "\t<li>'PC.2'</li>\n",
       "\t<li>'PC.3'</li>\n",
       "\t<li>'PC.4'</li>\n",
       "\t<li>'PC.5'</li>\n",
       "\t<li>'age.sq'</li>\n",
       "</ol>\n"
      ],
      "text/latex": [
       "\\begin{enumerate*}\n",
       "\\item 'FID'\n",
       "\\item 'IID'\n",
       "\\item 'sex'\n",
       "\\item 'age'\n",
       "\\item 'height'\n",
       "\\item 'bmi'\n",
       "\\item 'waist'\n",
       "\\item 'dbp'\n",
       "\\item 'sbp'\n",
       "\\item 'platelet'\n",
       "\\item 'redcell'\n",
       "\\item 'whitecell'\n",
       "\\item 'eosinophil'\n",
       "\\item 'redwidth'\n",
       "\\item 'plateletwidth'\n",
       "\\item 'cvd'\n",
       "\\item 'diabetes'\n",
       "\\item 'hypothyroidism'\n",
       "\\item 'respiratory'\n",
       "\\item 'glaucoma'\n",
       "\\item 'PC.1'\n",
       "\\item 'PC.2'\n",
       "\\item 'PC.3'\n",
       "\\item 'PC.4'\n",
       "\\item 'PC.5'\n",
       "\\item 'age.sq'\n",
       "\\end{enumerate*}\n"
      ],
      "text/markdown": [
       "1. 'FID'\n",
       "2. 'IID'\n",
       "3. 'sex'\n",
       "4. 'age'\n",
       "5. 'height'\n",
       "6. 'bmi'\n",
       "7. 'waist'\n",
       "8. 'dbp'\n",
       "9. 'sbp'\n",
       "10. 'platelet'\n",
       "11. 'redcell'\n",
       "12. 'whitecell'\n",
       "13. 'eosinophil'\n",
       "14. 'redwidth'\n",
       "15. 'plateletwidth'\n",
       "16. 'cvd'\n",
       "17. 'diabetes'\n",
       "18. 'hypothyroidism'\n",
       "19. 'respiratory'\n",
       "20. 'glaucoma'\n",
       "21. 'PC.1'\n",
       "22. 'PC.2'\n",
       "23. 'PC.3'\n",
       "24. 'PC.4'\n",
       "25. 'PC.5'\n",
       "26. 'age.sq'\n",
       "\n",
       "\n"
      ],
      "text/plain": [
       " [1] \"FID\"            \"IID\"            \"sex\"            \"age\"           \n",
       " [5] \"height\"         \"bmi\"            \"waist\"          \"dbp\"           \n",
       " [9] \"sbp\"            \"platelet\"       \"redcell\"        \"whitecell\"     \n",
       "[13] \"eosinophil\"     \"redwidth\"       \"plateletwidth\"  \"cvd\"           \n",
       "[17] \"diabetes\"       \"hypothyroidism\" \"respiratory\"    \"glaucoma\"      \n",
       "[21] \"PC.1\"           \"PC.2\"           \"PC.3\"           \"PC.4\"          \n",
       "[25] \"PC.5\"           \"age.sq\"        "
      ]
     },
     "metadata": {},
     "output_type": "display_data"
    }
   ],
   "source": [
    "colnames(Phenotypes)"
   ]
  },
  {
   "cell_type": "code",
   "execution_count": 8,
   "metadata": {},
   "outputs": [
    {
     "data": {
      "text/html": [
       "<table>\n",
       "<thead><tr><th scope=col>cvd</th><th scope=col>diabetes</th><th scope=col>hypothyroidism</th><th scope=col>respiratory</th><th scope=col>glaucoma</th></tr></thead>\n",
       "<tbody>\n",
       "\t<tr><td>160997</td><td>21724 </td><td>24241 </td><td>70345 </td><td>2508  </td></tr>\n",
       "</tbody>\n",
       "</table>\n"
      ],
      "text/latex": [
       "\\begin{tabular}{r|lllll}\n",
       " cvd & diabetes & hypothyroidism & respiratory & glaucoma\\\\\n",
       "\\hline\n",
       "\t 160997 & 21724  & 24241  & 70345  & 2508  \\\\\n",
       "\\end{tabular}\n"
      ],
      "text/markdown": [
       "\n",
       "| cvd | diabetes | hypothyroidism | respiratory | glaucoma |\n",
       "|---|---|---|---|---|\n",
       "| 160997 | 21724  | 24241  | 70345  | 2508   |\n",
       "\n"
      ],
      "text/plain": [
       "  cvd    diabetes hypothyroidism respiratory glaucoma\n",
       "1 160997 21724    24241          70345       2508    "
      ]
     },
     "metadata": {},
     "output_type": "display_data"
    }
   ],
   "source": [
    "# Number of cases\n",
    "Phenotypes %>% select(cvd, diabetes, hypothyroidism, respiratory, glaucoma) %>% \n",
    "    summarise_all(function(x) sum(x==2))"
   ]
  },
  {
   "cell_type": "code",
   "execution_count": 4,
   "metadata": {},
   "outputs": [
    {
     "name": "stderr",
     "output_type": "stream",
     "text": [
      "Warning message:\n",
      "“Removed 2539 rows containing non-finite values (stat_boxplot).”"
     ]
    },
    {
     "data": {
      "image/png": "[encoded data removed]",
      "text/plain": [
       "plot without title"
      ]
     },
     "metadata": {},
     "output_type": "display_data"
    }
   ],
   "source": [
    "options(repr.plot.width=5, repr.plot.height=3)\n",
    "Phenotypes %>% \n",
    "    mutate(sex=factor(sex, levels=c(1,2), labels=c(\"Female\",\"Male\"))) %>%\n",
    "    ggplot(aes(y=height, x=sex)) + \n",
    "    geom_boxplot() +\n",
    "    theme_bw()"
   ]
  },
  {
   "cell_type": "code",
   "execution_count": 4,
   "metadata": {},
   "outputs": [
    {
     "data": {
      "image/png": "[encoded data removed]",
      "text/plain": [
       "plot without title"
      ]
     },
     "metadata": {},
     "output_type": "display_data"
    }
   ],
   "source": [
    "options(repr.plot.width=8, repr.plot.height=8)\n",
    "\n",
    "pheno.cor <- Phenotypes %>% select(sex,age,age.sq,bmi,height,dbp,sbp,platelet,\n",
    "                                   cvd,diabetes,hypothyroidism,respiratory,glaucoma) %>%\n",
    "    cor(use=\"pairwise.complete.obs\")\n",
    "superheat(pheno.cor^2, heat.col.scheme = \"grey\", \n",
    "          row.dendrogram = TRUE, col.dendrogram = TRUE, bottom.label.text.angle = 90)"
   ]
  },
  {
   "cell_type": "code",
   "execution_count": 24,
   "metadata": {},
   "outputs": [
    {
     "data": {
      "text/html": [
       "<table>\n",
       "<thead><tr><th scope=col>cvd</th><th scope=col>diabetes</th><th scope=col>hypothyroidism</th><th scope=col>respiratory</th><th scope=col>glaucoma</th></tr></thead>\n",
       "<tbody>\n",
       "\t<tr><td>32.03665 </td><td>4.32284  </td><td>4.823696 </td><td>13.99789 </td><td>0.4990648</td></tr>\n",
       "</tbody>\n",
       "</table>\n"
      ],
      "text/latex": [
       "\\begin{tabular}{r|lllll}\n",
       " cvd & diabetes & hypothyroidism & respiratory & glaucoma\\\\\n",
       "\\hline\n",
       "\t 32.03665  & 4.32284   & 4.823696  & 13.99789  & 0.4990648\\\\\n",
       "\\end{tabular}\n"
      ],
      "text/markdown": [
       "\n",
       "| cvd | diabetes | hypothyroidism | respiratory | glaucoma |\n",
       "|---|---|---|---|---|\n",
       "| 32.03665  | 4.32284   | 4.823696  | 13.99789  | 0.4990648 |\n",
       "\n"
      ],
      "text/plain": [
       "  cvd      diabetes hypothyroidism respiratory glaucoma \n",
       "1 32.03665 4.32284  4.823696       13.99789    0.4990648"
      ]
     },
     "metadata": {},
     "output_type": "display_data"
    }
   ],
   "source": [
    "Phenotypes %>% select(cvd, diabetes, hypothyroidism, respiratory, glaucoma) %>% \n",
    "    summarise_all(function(x) 100*mean(x==2))"
   ]
  },
  {
   "cell_type": "markdown",
   "metadata": {},
   "source": [
    "## Cross-referencing with genotypes"
   ]
  },
  {
   "cell_type": "code",
   "execution_count": 5,
   "metadata": {},
   "outputs": [
    {
     "name": "stdout",
     "output_type": "stream",
     "text": [
      "Loaded list of 350119 individuals with knockoff genotypes.\n"
     ]
    },
    {
     "data": {
      "text/html": [
       "<table>\n",
       "<thead><tr><th scope=col>FID</th><th scope=col>IID</th><th scope=col>X1</th><th scope=col>X2</th><th scope=col>Sex</th><th scope=col>X3</th></tr></thead>\n",
       "<tbody>\n",
       "\t<tr><td>5393090</td><td>5393090</td><td>0      </td><td>0      </td><td>1      </td><td>-9     </td></tr>\n",
       "\t<tr><td>1532732</td><td>1532732</td><td>0      </td><td>0      </td><td>2      </td><td>-9     </td></tr>\n",
       "\t<tr><td>3186275</td><td>3186275</td><td>0      </td><td>0      </td><td>2      </td><td>-9     </td></tr>\n",
       "\t<tr><td>1277047</td><td>1277047</td><td>0      </td><td>0      </td><td>2      </td><td>-9     </td></tr>\n",
       "\t<tr><td>5282298</td><td>5282298</td><td>0      </td><td>0      </td><td>2      </td><td>-9     </td></tr>\n",
       "\t<tr><td>3818960</td><td>3818960</td><td>0      </td><td>0      </td><td>1      </td><td>-9     </td></tr>\n",
       "</tbody>\n",
       "</table>\n"
      ],
      "text/latex": [
       "\\begin{tabular}{r|llllll}\n",
       " FID & IID & X1 & X2 & Sex & X3\\\\\n",
       "\\hline\n",
       "\t 5393090 & 5393090 & 0       & 0       & 1       & -9     \\\\\n",
       "\t 1532732 & 1532732 & 0       & 0       & 2       & -9     \\\\\n",
       "\t 3186275 & 3186275 & 0       & 0       & 2       & -9     \\\\\n",
       "\t 1277047 & 1277047 & 0       & 0       & 2       & -9     \\\\\n",
       "\t 5282298 & 5282298 & 0       & 0       & 2       & -9     \\\\\n",
       "\t 3818960 & 3818960 & 0       & 0       & 1       & -9     \\\\\n",
       "\\end{tabular}\n"
      ],
      "text/markdown": [
       "\n",
       "| FID | IID | X1 | X2 | Sex | X3 |\n",
       "|---|---|---|---|---|---|\n",
       "| 5393090 | 5393090 | 0       | 0       | 1       | -9      |\n",
       "| 1532732 | 1532732 | 0       | 0       | 2       | -9      |\n",
       "| 3186275 | 3186275 | 0       | 0       | 2       | -9      |\n",
       "| 1277047 | 1277047 | 0       | 0       | 2       | -9      |\n",
       "| 5282298 | 5282298 | 0       | 0       | 2       | -9      |\n",
       "| 3818960 | 3818960 | 0       | 0       | 1       | -9      |\n",
       "\n"
      ],
      "text/plain": [
       "  FID     IID     X1 X2 Sex X3\n",
       "1 5393090 5393090 0  0  1   -9\n",
       "2 1532732 1532732 0  0  2   -9\n",
       "3 3186275 3186275 0  0  2   -9\n",
       "4 1277047 1277047 0  0  2   -9\n",
       "5 5282298 5282298 0  0  2   -9\n",
       "6 3818960 3818960 0  0  1   -9"
      ]
     },
     "metadata": {},
     "output_type": "display_data"
    }
   ],
   "source": [
    "# Load list of subjects\n",
    "fam.file <- sprintf(\"%s/augmented_data/Radj100_K50/ukb_gen_chr1.fam\", scratch)\n",
    "Subjects <- read_delim(fam.file, delim=\" \", col_types=cols(),\n",
    "                       col_names = c(\"FID\", \"IID\", \"X1\", \"X2\", \"Sex\", \"X3\"))\n",
    "cat(sprintf(\"Loaded list of %d individuals with knockoff genotypes.\\n\", nrow(Subjects)))\n",
    "Subjects %>% head()"
   ]
  },
  {
   "cell_type": "code",
   "execution_count": 6,
   "metadata": {},
   "outputs": [
    {
     "name": "stdout",
     "output_type": "stream",
     "text": [
      "350079 out of 350119 genotyped individuals (99.99%) have phenotype measurements.\n"
     ]
    }
   ],
   "source": [
    "Phenotypes.matched <- Subjects %>% inner_join(Phenotypes, by = c(\"FID\", \"IID\"))\n",
    "cat(sprintf(\"%d out of %d genotyped individuals (%.2f%%) have phenotype measurements.\\n\", \n",
    "            nrow(Phenotypes.matched), nrow(Subjects), 100*nrow(Phenotypes.matched)/nrow(Subjects)))"
   ]
  },
  {
   "cell_type": "code",
   "execution_count": 7,
   "metadata": {},
   "outputs": [
    {
     "name": "stdout",
     "output_type": "stream",
     "text": [
      "Found FBM in /scratch/PI/candes/ukbiobank_tmp/augmented_data_big/ukb_gen_Radj100.rds.\n",
      "Attaching bigSNP object... done.\n"
     ]
    },
    {
     "data": {
      "text/plain": [
       "   user  system elapsed \n",
       "  1.613   0.030   1.784 "
      ]
     },
     "metadata": {},
     "output_type": "display_data"
    }
   ],
   "source": [
    "# Load list of variants on chromosome \n",
    "chr <- 1\n",
    "key.file <- sprintf(\"%s/knockoffs/Radj100_K50/ukb_gen_chr%d.key\", scratch, chr)\n",
    "Variants <- read_delim(key.file, delim=\" \", col_types=cols())\n",
    "Variants <- Variants %>% mutate(CHR=Chr) %>% select(CHR, Variant, Position, Group, Knockoff)\n",
    "colnames(Variants) <- c(\"CHR\", \"SNP\", \"BP\", \"Group\", \"Knockoff\")\n",
    "\n",
    "# Attach the \"bigSNP\" object in R session\n",
    "rds.file <- sprintf(\"%s/augmented_data_big/ukb_gen_Radj100.rds\", scratch)\n",
    "if(file.exists(rds.file)){\n",
    "    cat(sprintf(\"Found FBM in %s.\\n\", rds.file))\n",
    "} else {\n",
    "    cat(sprintf(\"Could not find FBM in %s.\\n\", rds.file))\n",
    "    quit()\n",
    "}\n",
    "\n",
    "ptm <- proc.time() # Start the clock!\n",
    "cat(\"Attaching bigSNP object... \")\n",
    "obj.bigSNP <- snp_attach(rds.file)\n",
    "cat(\"done.\\n\")\n",
    "proc.time() - ptm # Stop the clock\n",
    "\n",
    "# Get aliases for useful slots\n",
    "G   <- obj.bigSNP$genotypes\n",
    "CHR <- obj.bigSNP$map$chromosome\n",
    "POS <- obj.bigSNP$map$physical.pos\n",
    "SNP <- obj.bigSNP$map$marker.ID\n",
    "\n",
    "# Make sure that the rows of the genotypes match the rows of the phenotypes\n",
    "Phenotypes.matched <- Phenotypes %>%\n",
    "    right_join(transmute(obj.bigSNP$fam, FID=family.ID, IID=sample.ID), by = c(\"FID\", \"IID\"))"
   ]
  },
  {
   "cell_type": "code",
   "execution_count": 8,
   "metadata": {},
   "outputs": [
    {
     "data": {
      "text/html": [
       "<table>\n",
       "<thead><tr><th scope=col>CHR</th><th scope=col>SNP</th><th scope=col>BP</th><th scope=col>Group</th><th scope=col>Knockoff</th></tr></thead>\n",
       "<tbody>\n",
       "\t<tr><td>1         </td><td>rs574367.A</td><td>177873210 </td><td>31785     </td><td> TRUE     </td></tr>\n",
       "\t<tr><td>1         </td><td>rs574367.B</td><td>177873210 </td><td>31785     </td><td>FALSE     </td></tr>\n",
       "</tbody>\n",
       "</table>\n"
      ],
      "text/latex": [
       "\\begin{tabular}{r|lllll}\n",
       " CHR & SNP & BP & Group & Knockoff\\\\\n",
       "\\hline\n",
       "\t 1          & rs574367.A & 177873210  & 31785      &  TRUE     \\\\\n",
       "\t 1          & rs574367.B & 177873210  & 31785      & FALSE     \\\\\n",
       "\\end{tabular}\n"
      ],
      "text/markdown": [
       "\n",
       "| CHR | SNP | BP | Group | Knockoff |\n",
       "|---|---|---|---|---|\n",
       "| 1          | rs574367.A | 177873210  | 31785      |  TRUE      |\n",
       "| 1          | rs574367.B | 177873210  | 31785      | FALSE      |\n",
       "\n"
      ],
      "text/plain": [
       "  CHR SNP        BP        Group Knockoff\n",
       "1 1   rs574367.A 177873210 31785  TRUE   \n",
       "2 1   rs574367.B 177873210 31785 FALSE   "
      ]
     },
     "metadata": {},
     "output_type": "display_data"
    }
   ],
   "source": [
    "Variants %>% filter(SNP %in% c(\"rs574367.A\",\"rs574367.B\"))"
   ]
  },
  {
   "cell_type": "code",
   "execution_count": 16,
   "metadata": {},
   "outputs": [],
   "source": [
    "ind.row <- which(obj.bigSNP$fam$family.ID %in% Phenotypes.matched$FID)\n",
    "ind.col <- which(SNP==\"rs574367.B\")\n",
    "data <- c()\n",
    "data$y      <- Phenotypes.matched$bmi\n",
    "data$G      <- G[ind.row,ind.col]\n",
    "data$sex    <- Phenotypes.matched$sex\n",
    "data$age    <- Phenotypes.matched$age\n",
    "data$age.sq <- Phenotypes.matched$age.sq\n",
    "data <- as.data.frame(data)"
   ]
  },
  {
   "cell_type": "code",
   "execution_count": 17,
   "metadata": {},
   "outputs": [
    {
     "name": "stdout",
     "output_type": "stream",
     "text": [
      "Fitting linear regression with 4 variables and 350119 observations\n"
     ]
    },
    {
     "data": {
      "text/plain": [
       "\n",
       "Call:\n",
       "lm(formula = y ~ ., data = data)\n",
       "\n",
       "Residuals:\n",
       "    Min      1Q  Median      3Q     Max \n",
       "-15.322  -3.264  -0.748   2.416  48.061 \n",
       "\n",
       "Coefficients:\n",
       "              Estimate Std. Error t value Pr(>|t|)    \n",
       "(Intercept) 17.9757418  0.4035756   44.54   <2e-16 ***\n",
       "G            0.2310752  0.0140039   16.50   <2e-16 ***\n",
       "sex          0.7865669  0.0162141   48.51   <2e-16 ***\n",
       "age          0.2718813  0.0147029   18.49   <2e-16 ***\n",
       "age.sq      -0.0021968  0.0001323  -16.61   <2e-16 ***\n",
       "---\n",
       "Signif. codes:  0 ‘***’ 0.001 ‘**’ 0.01 ‘*’ 0.05 ‘.’ 0.1 ‘ ’ 1\n",
       "\n",
       "Residual standard error: 4.77 on 349053 degrees of freedom\n",
       "  (1061 observations deleted due to missingness)\n",
       "Multiple R-squared:  0.01054,\tAdjusted R-squared:  0.01053 \n",
       "F-statistic: 929.9 on 4 and 349053 DF,  p-value: < 2.2e-16\n"
      ]
     },
     "metadata": {},
     "output_type": "display_data"
    }
   ],
   "source": [
    "cat(sprintf(\"Fitting linear regression with %d variables and %d observations\\n\", ncol(data)-1, length(data$y)))\n",
    "summary(lm(y ~ ., data))"
   ]
  },
  {
   "cell_type": "markdown",
   "metadata": {},
   "source": [
    "## Height"
   ]
  },
  {
   "cell_type": "code",
   "execution_count": 42,
   "metadata": {},
   "outputs": [
    {
     "data": {
      "text/html": [
       "<ol class=list-inline>\n",
       "\t<li>'FID'</li>\n",
       "\t<li>'IID'</li>\n",
       "\t<li>'sex'</li>\n",
       "\t<li>'age'</li>\n",
       "\t<li>'height'</li>\n",
       "\t<li>'bmi'</li>\n",
       "\t<li>'waist'</li>\n",
       "\t<li>'dbp'</li>\n",
       "\t<li>'sbp'</li>\n",
       "\t<li>'platelet'</li>\n",
       "\t<li>'redcell'</li>\n",
       "\t<li>'whitecell'</li>\n",
       "\t<li>'eosinophil'</li>\n",
       "\t<li>'redwidth'</li>\n",
       "\t<li>'plateletwidth'</li>\n",
       "\t<li>'cvd'</li>\n",
       "\t<li>'diabetes'</li>\n",
       "\t<li>'hypothyroidism'</li>\n",
       "\t<li>'respiratory'</li>\n",
       "\t<li>'glaucoma'</li>\n",
       "\t<li>'PC.1'</li>\n",
       "\t<li>'PC.2'</li>\n",
       "\t<li>'PC.3'</li>\n",
       "\t<li>'PC.4'</li>\n",
       "\t<li>'PC.5'</li>\n",
       "</ol>\n"
      ],
      "text/latex": [
       "\\begin{enumerate*}\n",
       "\\item 'FID'\n",
       "\\item 'IID'\n",
       "\\item 'sex'\n",
       "\\item 'age'\n",
       "\\item 'height'\n",
       "\\item 'bmi'\n",
       "\\item 'waist'\n",
       "\\item 'dbp'\n",
       "\\item 'sbp'\n",
       "\\item 'platelet'\n",
       "\\item 'redcell'\n",
       "\\item 'whitecell'\n",
       "\\item 'eosinophil'\n",
       "\\item 'redwidth'\n",
       "\\item 'plateletwidth'\n",
       "\\item 'cvd'\n",
       "\\item 'diabetes'\n",
       "\\item 'hypothyroidism'\n",
       "\\item 'respiratory'\n",
       "\\item 'glaucoma'\n",
       "\\item 'PC.1'\n",
       "\\item 'PC.2'\n",
       "\\item 'PC.3'\n",
       "\\item 'PC.4'\n",
       "\\item 'PC.5'\n",
       "\\end{enumerate*}\n"
      ],
      "text/markdown": [
       "1. 'FID'\n",
       "2. 'IID'\n",
       "3. 'sex'\n",
       "4. 'age'\n",
       "5. 'height'\n",
       "6. 'bmi'\n",
       "7. 'waist'\n",
       "8. 'dbp'\n",
       "9. 'sbp'\n",
       "10. 'platelet'\n",
       "11. 'redcell'\n",
       "12. 'whitecell'\n",
       "13. 'eosinophil'\n",
       "14. 'redwidth'\n",
       "15. 'plateletwidth'\n",
       "16. 'cvd'\n",
       "17. 'diabetes'\n",
       "18. 'hypothyroidism'\n",
       "19. 'respiratory'\n",
       "20. 'glaucoma'\n",
       "21. 'PC.1'\n",
       "22. 'PC.2'\n",
       "23. 'PC.3'\n",
       "24. 'PC.4'\n",
       "25. 'PC.5'\n",
       "\n",
       "\n"
      ],
      "text/plain": [
       " [1] \"FID\"            \"IID\"            \"sex\"            \"age\"           \n",
       " [5] \"height\"         \"bmi\"            \"waist\"          \"dbp\"           \n",
       " [9] \"sbp\"            \"platelet\"       \"redcell\"        \"whitecell\"     \n",
       "[13] \"eosinophil\"     \"redwidth\"       \"plateletwidth\"  \"cvd\"           \n",
       "[17] \"diabetes\"       \"hypothyroidism\" \"respiratory\"    \"glaucoma\"      \n",
       "[21] \"PC.1\"           \"PC.2\"           \"PC.3\"           \"PC.4\"          \n",
       "[25] \"PC.5\"          "
      ]
     },
     "metadata": {},
     "output_type": "display_data"
    },
    {
     "data": {
      "image/png": "[encoded data removed]",
      "text/plain": [
       "Plot with title “Histogram of Phenotypes$height”"
      ]
     },
     "metadata": {},
     "output_type": "display_data"
    }
   ],
   "source": [
    "colnames(Phenotypes)\n",
    "hist(Phenotypes$height)"
   ]
  },
  {
   "cell_type": "code",
   "execution_count": null,
   "metadata": {},
   "outputs": [],
   "source": []
  }
 ],
 "metadata": {
  "kernelspec": {
   "display_name": "R",
   "language": "R",
   "name": "ir"
  },
  "language_info": {
   "codemirror_mode": "r",
   "file_extension": ".r",
   "mimetype": "text/x-r-source",
   "name": "R",
   "pygments_lexer": "r",
   "version": "3.5.1"
  }
 },
 "nbformat": 4,
 "nbformat_minor": 2
}
