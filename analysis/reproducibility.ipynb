{
 "cells": [
  {
   "cell_type": "code",
   "execution_count": 1,
   "metadata": {},
   "outputs": [],
   "source": [
    ".libPaths(\"/home/groups/candes/Software/miniconda2/envs/ukb/lib/R/library\")\n",
    "suppressMessages(library(tidyverse))\n",
    "suppressMessages(library(cowplot))\n",
    "suppressMessages(library(kableExtra))\n",
    "\n",
    "source(\"../utils/utils_clumping.R\")\n",
    "source(\"utils_manhattan.R\")\n",
    "\n",
    "scratch <- \"/scratch/PI/candes/ukbiobank_tmp\"\n",
    "\n",
    "fold <- \"01\"\n",
    "resolution <- \"Radj2\"\n",
    "phenotype.list <- c(\"platelet\")"
   ]
  },
  {
   "cell_type": "code",
   "execution_count": 2,
   "metadata": {},
   "outputs": [],
   "source": [
    "verify_discovery <- function(chr, bp.min, bp.max, Large.gwas) {\n",
    "    gap <- 1e5\n",
    "    discovery.matches <- Large.gwas %>% \n",
    "        filter(CHR==chr, BP.min<=bp.max+gap, BP.max>=bp.min-gap)\n",
    "    if(nrow(discovery.matches)>0) {\n",
    "        arrange(discovery.matches, desc(Importance))$SNP.lead[1]\n",
    "    } else {\n",
    "        return(NA)\n",
    "    }\n",
    "}\n",
    "\n",
    "verify_discoveries <- function(chr, bp.min, bp.max, Large.gwas) {\n",
    "    sapply(1:length(chr), function(j) {\n",
    "        verify_discovery(chr[j], bp.min[j], bp.max[j], Large.gwas)\n",
    "    })\n",
    "}"
   ]
  },
  {
   "cell_type": "markdown",
   "metadata": {},
   "source": [
    "## Load results from small GWAS"
   ]
  },
  {
   "cell_type": "code",
   "execution_count": 3,
   "metadata": {},
   "outputs": [
    {
     "name": "stdout",
     "output_type": "stream",
     "text": [
      "Found 47 discoveries for platelet made with LMM.\n",
      "Found 272 discoveries for platelet made with LMM and BH.\n",
      "Found 81 discoveries for platelet made with knockoffs at resolution Radj2.\n"
     ]
    }
   ],
   "source": [
    "Discoveries <- lapply(phenotype.list, function(phenotype) {\n",
    "    # Load LMM discoveries (if available)\n",
    "    lmm.file <- sprintf(\"%s/discoveries/%s_lmm_regions_fold_%s.txt\", scratch, phenotype, fold)\n",
    "    if(file.exists(lmm.file)) {\n",
    "        Discoveries.LMM <- read_delim(lmm.file, delim=\" \", col_types=cols()) %>%\n",
    "            mutate(Phenotype=phenotype, Method=\"LMM\", Importance=-log10(P), Resolution=\"GWAS\", Significance=\"FWER\") %>%\n",
    "            select(-c(\"P\"))\n",
    "        cat(sprintf(\"Found %d discoveries for %s made with LMM.\\n\", nrow(Discoveries.LMM), phenotype))\n",
    "    } else {\n",
    "        cat(sprintf(\"Discoveries for %s made with LMM are not available.\\n\", phenotype))\n",
    "        Discoveries.LMM <- tibble()\n",
    "    }\n",
    "    \n",
    "    # Load LMM discoveries with BH (if available)\n",
    "    lmm.bh.file <- sprintf(\"%s/discoveries/%s_lmm_regions_fold_%s_BH.txt\", scratch, phenotype, fold)\n",
    "    if(file.exists(lmm.bh.file)) {\n",
    "        Discoveries.LMM.BH <- read_delim(lmm.bh.file, delim=\" \", col_types=cols()) %>%\n",
    "            mutate(Phenotype=phenotype, Method=\"LMM\", Importance=-log10(P), Resolution=\"GWAS\", Significance=\"FDR\") %>%\n",
    "            select(-c(\"P\"))\n",
    "        cat(sprintf(\"Found %d discoveries for %s made with LMM and BH.\\n\", nrow(Discoveries.LMM.BH), phenotype))\n",
    "    } else {\n",
    "        cat(sprintf(\"Discoveries for %s made with LMM and BH are not available.\\n\", phenotype))\n",
    "        Discoveries.LMM.BH <- tibble()\n",
    "    }\n",
    "    \n",
    "    # Load knockoffs discoveries (if available)\n",
    "    knockoffs.file <- sprintf(\"%s/discoveries/%s_knockoffs_%s_fold_%s.txt\", scratch, phenotype, resolution, fold)\n",
    "    if(file.exists(knockoffs.file)) {\n",
    "        Discoveries.knockoffs <- read_delim(knockoffs.file, delim=\" \", col_types=cols()) %>%\n",
    "            mutate(Phenotype=phenotype, Method=\"Knockoffs\", Importance=W, Resolution=resolution, Significance=\"FDR\") %>%\n",
    "            select(-c(\"W\", \"Group\"))\n",
    "        cat(sprintf(\"Found %d discoveries for %s made with knockoffs at resolution %s.\\n\", \n",
    "                    nrow(Discoveries.knockoffs), phenotype, resolution))\n",
    "    } else {\n",
    "        cat(sprintf(\"Discoveries for %s made with knockoffs at resolution %s are not available.\\n\", \n",
    "            phenotype, resolution))\n",
    "        Discoveries.knockoffs <- tibble()\n",
    "    }\n",
    "    \n",
    "    # Combine results\n",
    "    return(rbind(Discoveries.LMM,Discoveries.LMM.BH,Discoveries.knockoffs))\n",
    "})\n",
    "Discoveries <- do.call(\"rbind\", Discoveries)"
   ]
  },
  {
   "cell_type": "code",
   "execution_count": 4,
   "metadata": {},
   "outputs": [
    {
     "data": {
      "text/html": [
       "<table>\n",
       "<thead><tr><th scope=col>Phenotype</th><th scope=col>Method</th><th scope=col>Significance</th><th scope=col>Resolution</th><th scope=col>Discoveries</th><th scope=col>BP.width</th></tr></thead>\n",
       "<tbody>\n",
       "\t<tr><td>platelet </td><td>Knockoffs</td><td>FDR      </td><td>Radj2    </td><td> 81      </td><td>0.3188757</td></tr>\n",
       "\t<tr><td>platelet </td><td>LMM      </td><td>FDR      </td><td>GWAS     </td><td>272      </td><td>0.4333372</td></tr>\n",
       "\t<tr><td>platelet </td><td>LMM      </td><td>FWER     </td><td>GWAS     </td><td> 47      </td><td>0.6743524</td></tr>\n",
       "</tbody>\n",
       "</table>\n"
      ],
      "text/latex": [
       "\\begin{tabular}{r|llllll}\n",
       " Phenotype & Method & Significance & Resolution & Discoveries & BP.width\\\\\n",
       "\\hline\n",
       "\t platelet  & Knockoffs & FDR       & Radj2     &  81       & 0.3188757\\\\\n",
       "\t platelet  & LMM       & FDR       & GWAS      & 272       & 0.4333372\\\\\n",
       "\t platelet  & LMM       & FWER      & GWAS      &  47       & 0.6743524\\\\\n",
       "\\end{tabular}\n"
      ],
      "text/markdown": [
       "\n",
       "| Phenotype | Method | Significance | Resolution | Discoveries | BP.width |\n",
       "|---|---|---|---|---|---|\n",
       "| platelet  | Knockoffs | FDR       | Radj2     |  81       | 0.3188757 |\n",
       "| platelet  | LMM       | FDR       | GWAS      | 272       | 0.4333372 |\n",
       "| platelet  | LMM       | FWER      | GWAS      |  47       | 0.6743524 |\n",
       "\n"
      ],
      "text/plain": [
       "  Phenotype Method    Significance Resolution Discoveries BP.width \n",
       "1 platelet  Knockoffs FDR          Radj2       81         0.3188757\n",
       "2 platelet  LMM       FDR          GWAS       272         0.4333372\n",
       "3 platelet  LMM       FWER         GWAS        47         0.6743524"
      ]
     },
     "metadata": {},
     "output_type": "display_data"
    },
    {
     "data": {
      "text/html": [
       "<table>\n",
       "<thead><tr><th scope=col>Phenotype</th><th scope=col>Method</th><th scope=col>Significance</th><th scope=col>Resolution</th><th scope=col>Discoveries</th><th scope=col>BP.width</th></tr></thead>\n",
       "<tbody>\n",
       "\t<tr><td>platelet </td><td>Knockoffs</td><td>FDR      </td><td>Radj2    </td><td> 77      </td><td>0.3365592</td></tr>\n",
       "\t<tr><td>platelet </td><td>LMM      </td><td>FDR      </td><td>GWAS     </td><td>237      </td><td>0.4103156</td></tr>\n",
       "\t<tr><td>platelet </td><td>LMM      </td><td>FWER     </td><td>GWAS     </td><td> 43      </td><td>0.7034752</td></tr>\n",
       "</tbody>\n",
       "</table>\n"
      ],
      "text/latex": [
       "\\begin{tabular}{r|llllll}\n",
       " Phenotype & Method & Significance & Resolution & Discoveries & BP.width\\\\\n",
       "\\hline\n",
       "\t platelet  & Knockoffs & FDR       & Radj2     &  77       & 0.3365592\\\\\n",
       "\t platelet  & LMM       & FDR       & GWAS      & 237       & 0.4103156\\\\\n",
       "\t platelet  & LMM       & FWER      & GWAS      &  43       & 0.7034752\\\\\n",
       "\\end{tabular}\n"
      ],
      "text/markdown": [
       "\n",
       "| Phenotype | Method | Significance | Resolution | Discoveries | BP.width |\n",
       "|---|---|---|---|---|---|\n",
       "| platelet  | Knockoffs | FDR       | Radj2     |  77       | 0.3365592 |\n",
       "| platelet  | LMM       | FDR       | GWAS      | 237       | 0.4103156 |\n",
       "| platelet  | LMM       | FWER      | GWAS      |  43       | 0.7034752 |\n",
       "\n"
      ],
      "text/plain": [
       "  Phenotype Method    Significance Resolution Discoveries BP.width \n",
       "1 platelet  Knockoffs FDR          Radj2       77         0.3365592\n",
       "2 platelet  LMM       FDR          GWAS       237         0.4103156\n",
       "3 platelet  LMM       FWER         GWAS        43         0.7034752"
      ]
     },
     "metadata": {},
     "output_type": "display_data"
    }
   ],
   "source": [
    "# Number of discoveries\n",
    "Discoveries %>% \n",
    "    group_by(Phenotype, Method, Significance, Resolution) %>%\n",
    "    summarise(Discoveries=n(), BP.width=mean(BP.width)/1e6) %>%\n",
    "    arrange(Phenotype, Method, Resolution)\n",
    "\n",
    "# Consolidate discoveries\n",
    "Discoveries.clumped <- Discoveries %>% \n",
    "    group_by(Phenotype, Method, Significance, Resolution) %>%\n",
    "    consolidate_clumps()\n",
    "\n",
    "# Number of consolidated discoveries\n",
    "Discoveries.clumped %>% \n",
    "    summarise(Discoveries=n(), BP.width=mean(BP.width)/1e6) %>%\n",
    "    arrange(Phenotype, Method, Resolution)"
   ]
  },
  {
   "cell_type": "markdown",
   "metadata": {},
   "source": [
    "## Check overlap between LMM and knockoff discoveries"
   ]
  },
  {
   "cell_type": "code",
   "execution_count": 5,
   "metadata": {},
   "outputs": [
    {
     "data": {
      "text/html": [
       "<table>\n",
       "<thead><tr><th scope=col>Phenotype</th><th scope=col>Method</th><th scope=col>Significance</th><th scope=col>Resolution</th><th scope=col>BP.width</th><th scope=col>Discoveries</th><th scope=col>Overlapping</th><th scope=col>Distinct</th></tr></thead>\n",
       "<tbody>\n",
       "\t<tr><td>platelet </td><td>Knockoffs</td><td>FDR      </td><td>Radj2    </td><td>0.3188757</td><td>81       </td><td>44       </td><td>37       </td></tr>\n",
       "</tbody>\n",
       "</table>\n"
      ],
      "text/latex": [
       "\\begin{tabular}{r|llllllll}\n",
       " Phenotype & Method & Significance & Resolution & BP.width & Discoveries & Overlapping & Distinct\\\\\n",
       "\\hline\n",
       "\t platelet  & Knockoffs & FDR       & Radj2     & 0.3188757 & 81        & 44        & 37       \\\\\n",
       "\\end{tabular}\n"
      ],
      "text/markdown": [
       "\n",
       "| Phenotype | Method | Significance | Resolution | BP.width | Discoveries | Overlapping | Distinct |\n",
       "|---|---|---|---|---|---|---|---|\n",
       "| platelet  | Knockoffs | FDR       | Radj2     | 0.3188757 | 81        | 44        | 37        |\n",
       "\n"
      ],
      "text/plain": [
       "  Phenotype Method    Significance Resolution BP.width  Discoveries Overlapping\n",
       "1 platelet  Knockoffs FDR          Radj2      0.3188757 81          44         \n",
       "  Distinct\n",
       "1 37      "
      ]
     },
     "metadata": {},
     "output_type": "display_data"
    },
    {
     "data": {
      "text/html": [
       "<table>\n",
       "<thead><tr><th scope=col>Phenotype</th><th scope=col>Method</th><th scope=col>Significance</th><th scope=col>Resolution</th><th scope=col>BP.width</th><th scope=col>Discoveries</th><th scope=col>Overlapping</th><th scope=col>Distinct</th></tr></thead>\n",
       "<tbody>\n",
       "\t<tr><td>platelet </td><td>LMM      </td><td>FWER     </td><td>GWAS     </td><td>0.6743524</td><td>47       </td><td>42       </td><td>5        </td></tr>\n",
       "</tbody>\n",
       "</table>\n"
      ],
      "text/latex": [
       "\\begin{tabular}{r|llllllll}\n",
       " Phenotype & Method & Significance & Resolution & BP.width & Discoveries & Overlapping & Distinct\\\\\n",
       "\\hline\n",
       "\t platelet  & LMM       & FWER      & GWAS      & 0.6743524 & 47        & 42        & 5        \\\\\n",
       "\\end{tabular}\n"
      ],
      "text/markdown": [
       "\n",
       "| Phenotype | Method | Significance | Resolution | BP.width | Discoveries | Overlapping | Distinct |\n",
       "|---|---|---|---|---|---|---|---|\n",
       "| platelet  | LMM       | FWER      | GWAS      | 0.6743524 | 47        | 42        | 5         |\n",
       "\n"
      ],
      "text/plain": [
       "  Phenotype Method Significance Resolution BP.width  Discoveries Overlapping\n",
       "1 platelet  LMM    FWER         GWAS       0.6743524 47          42         \n",
       "  Distinct\n",
       "1 5       "
      ]
     },
     "metadata": {},
     "output_type": "display_data"
    }
   ],
   "source": [
    "Discoveries.lmm <- Discoveries %>% \n",
    "    group_by(Phenotype, Method, Significance, Resolution) %>%\n",
    "    filter(Method==\"LMM\", Significance==\"FWER\", Resolution==\"GWAS\")\n",
    "\n",
    "Discoveries.overlapping.1 <- Discoveries %>% \n",
    "    group_by(Phenotype, Method, Significance, Resolution) %>%\n",
    "    filter(Method==\"Knockoffs\", Resolution==\"Radj2\") %>%\n",
    "    mutate(Replicated=verify_discoveries(CHR, BP.min, BP.max, Discoveries.lmm))\n",
    "\n",
    "Overlapping.table.1 <- Discoveries.overlapping.1 %>% \n",
    "    group_by(Phenotype, Method, Significance, Resolution) %>%\n",
    "    summarise(BP.width=mean(BP.width)/1e6, Discoveries=n(),\n",
    "              Overlapping=sum(!is.na(Replicated)), Distinct=sum(is.na(Replicated)))\n",
    "\n",
    "Overlapping.table.1\n",
    "\n",
    "Discoveries.knockoffs <- Discoveries %>% \n",
    "    group_by(Phenotype, Method, Significance, Resolution) %>%\n",
    "    filter(Method==\"Knockoffs\", Significance==\"FDR\", Resolution==\"Radj2\")\n",
    "\n",
    "Discoveries.overlapping.2 <- Discoveries.lmm %>% \n",
    "    group_by(Phenotype, Method, Significance, Resolution) %>%\n",
    "    filter(Method==\"LMM\", Resolution==\"GWAS\", Significance==\"FWER\") %>%\n",
    "    mutate(Replicated=verify_discoveries(CHR, BP.min, BP.max, Discoveries.knockoffs))\n",
    "\n",
    "Overlapping.table.2 <- Discoveries.overlapping.2 %>% \n",
    "    group_by(Phenotype, Method, Significance, Resolution) %>%\n",
    "    summarise(BP.width=mean(BP.width)/1e6, Discoveries=n(),\n",
    "              Overlapping=sum(!is.na(Replicated)), Distinct=sum(is.na(Replicated)))\n",
    "\n",
    "Overlapping.table.2"
   ]
  },
  {
   "cell_type": "code",
   "execution_count": 6,
   "metadata": {},
   "outputs": [
    {
     "data": {
      "text/html": [
       "<table>\n",
       "<thead><tr><th scope=col>Phenotype</th><th scope=col>Method</th><th scope=col>Discoveries</th><th scope=col>Overlapping</th><th scope=col>Distinct</th></tr></thead>\n",
       "<tbody>\n",
       "\t<tr><td>platelet </td><td>Knockoffs</td><td>81       </td><td>44       </td><td>37       </td></tr>\n",
       "\t<tr><td>platelet </td><td>LMM      </td><td>47       </td><td>42       </td><td> 5       </td></tr>\n",
       "</tbody>\n",
       "</table>\n"
      ],
      "text/latex": [
       "\\begin{tabular}{r|lllll}\n",
       " Phenotype & Method & Discoveries & Overlapping & Distinct\\\\\n",
       "\\hline\n",
       "\t platelet  & Knockoffs & 81        & 44        & 37       \\\\\n",
       "\t platelet  & LMM       & 47        & 42        &  5       \\\\\n",
       "\\end{tabular}\n"
      ],
      "text/markdown": [
       "\n",
       "| Phenotype | Method | Discoveries | Overlapping | Distinct |\n",
       "|---|---|---|---|---|\n",
       "| platelet  | Knockoffs | 81        | 44        | 37        |\n",
       "| platelet  | LMM       | 47        | 42        |  5        |\n",
       "\n"
      ],
      "text/plain": [
       "  Phenotype Method    Discoveries Overlapping Distinct\n",
       "1 platelet  Knockoffs 81          44          37      \n",
       "2 platelet  LMM       47          42           5      "
      ]
     },
     "metadata": {},
     "output_type": "display_data"
    },
    {
     "data": {
      "text/plain": [
       "\n",
       "\\begin{tabular}{c|c|c|c|c}\n",
       "\\hline\n",
       "Phenotype & Method & Discoveries & Overlapping & Distinct\\\\\n",
       "\\hline\n",
       " & Knockoffs & 81 & 44 & 37\\\\\n",
       "\n",
       "\\multirow{-2}{*}{\\centering\\arraybackslash platelet} & LMM & 47 & 42 & 5\\\\\n",
       "\\hline\n",
       "\\end{tabular}"
      ]
     },
     "metadata": {},
     "output_type": "display_data"
    }
   ],
   "source": [
    "Overlapping.table <- rbind(\n",
    "    Overlapping.table.1 %>% ungroup() %>% select(Phenotype, Method, Discoveries, Overlapping, Distinct),\n",
    "    Overlapping.table.2 %>% ungroup() %>% select(Phenotype, Method, Discoveries, Overlapping, Distinct))\n",
    "\n",
    "Overlapping.table\n",
    "\n",
    "Overlapping.table %>%\n",
    "    ungroup() %>%\n",
    "    kable(format=\"latex\", align=\"c\", digits=3) %>%\n",
    "    collapse_rows(columns = 1, latex_hline = \"major\", valign = \"middle\")"
   ]
  },
  {
   "cell_type": "markdown",
   "metadata": {},
   "source": [
    "## Load results from large GWAS"
   ]
  },
  {
   "cell_type": "code",
   "execution_count": 7,
   "metadata": {},
   "outputs": [
    {
     "name": "stdout",
     "output_type": "stream",
     "text": [
      "Found 723 discoveries for platelet made with LMM.\n",
      "Found 1460 discoveries for platelet made with knockoffs at resolution Radj2.\n"
     ]
    }
   ],
   "source": [
    "Discoveries.large <- lapply(phenotype.list, function(phenotype) {\n",
    "    # Load LMM discoveries (if available)\n",
    "    lmm.file <- sprintf(\"%s/discoveries/%s_lmm_regions.txt\", scratch, phenotype)\n",
    "    if(file.exists(lmm.file)) {\n",
    "        Discoveries.LMM <- read_delim(lmm.file, delim=\" \", col_types=cols()) %>%\n",
    "            mutate(Phenotype=phenotype, Method=\"LMM\", Importance=-log10(P), Resolution=\"GWAS\") %>%\n",
    "            select(-c(\"P\"))\n",
    "        cat(sprintf(\"Found %d discoveries for %s made with LMM.\\n\", nrow(Discoveries.LMM), phenotype))\n",
    "    } else {\n",
    "        cat(sprintf(\"Discoveries for %s made with LMM are not available.\\n\", phenotype))\n",
    "        Discoveries.LMM <- tibble()\n",
    "    }\n",
    "    \n",
    "    # Load knockoffs discoveries (if available)\n",
    "    knockoffs.file <- sprintf(\"%s/discoveries/%s_knockoffs_%s.txt\", scratch, phenotype, resolution)\n",
    "    if(file.exists(knockoffs.file)) {\n",
    "        Discoveries.knockoffs <- read_delim(knockoffs.file, delim=\" \", col_types=cols()) %>%\n",
    "            mutate(Phenotype=phenotype, Method=\"Knockoffs\", Importance=W, Resolution=resolution) %>%\n",
    "            select(-c(\"W\", \"Group\"))\n",
    "        cat(sprintf(\"Found %d discoveries for %s made with knockoffs at resolution %s.\\n\", \n",
    "                    nrow(Discoveries.knockoffs), phenotype, resolution))\n",
    "    } else {\n",
    "        cat(sprintf(\"Discoveries for %s made with knockoffs at resolution %s are not available.\\n\", \n",
    "            phenotype, resolution))\n",
    "        Discoveries.knockoffs <- tibble()\n",
    "    }\n",
    "    \n",
    "    # Combine results\n",
    "    return(rbind(Discoveries.LMM,Discoveries.knockoffs))\n",
    "})\n",
    "Discoveries.large <- do.call(\"rbind\", Discoveries.large)"
   ]
  },
  {
   "cell_type": "code",
   "execution_count": 8,
   "metadata": {},
   "outputs": [
    {
     "data": {
      "text/html": [
       "<table>\n",
       "<thead><tr><th scope=col>Phenotype</th><th scope=col>Method</th><th scope=col>Resolution</th><th scope=col>Discoveries</th><th scope=col>BP.width</th></tr></thead>\n",
       "<tbody>\n",
       "\t<tr><td>platelet </td><td>Knockoffs</td><td>Radj2    </td><td>1460     </td><td>0.3076403</td></tr>\n",
       "\t<tr><td>platelet </td><td>LMM      </td><td>GWAS     </td><td> 723     </td><td>0.7822125</td></tr>\n",
       "</tbody>\n",
       "</table>\n"
      ],
      "text/latex": [
       "\\begin{tabular}{r|lllll}\n",
       " Phenotype & Method & Resolution & Discoveries & BP.width\\\\\n",
       "\\hline\n",
       "\t platelet  & Knockoffs & Radj2     & 1460      & 0.3076403\\\\\n",
       "\t platelet  & LMM       & GWAS      &  723      & 0.7822125\\\\\n",
       "\\end{tabular}\n"
      ],
      "text/markdown": [
       "\n",
       "| Phenotype | Method | Resolution | Discoveries | BP.width |\n",
       "|---|---|---|---|---|\n",
       "| platelet  | Knockoffs | Radj2     | 1460      | 0.3076403 |\n",
       "| platelet  | LMM       | GWAS      |  723      | 0.7822125 |\n",
       "\n"
      ],
      "text/plain": [
       "  Phenotype Method    Resolution Discoveries BP.width \n",
       "1 platelet  Knockoffs Radj2      1460        0.3076403\n",
       "2 platelet  LMM       GWAS        723        0.7822125"
      ]
     },
     "metadata": {},
     "output_type": "display_data"
    },
    {
     "data": {
      "text/html": [
       "<table>\n",
       "<thead><tr><th scope=col>Phenotype</th><th scope=col>Method</th><th scope=col>Resolution</th><th scope=col>Discoveries</th><th scope=col>BP.width</th></tr></thead>\n",
       "<tbody>\n",
       "\t<tr><td>platelet </td><td>Knockoffs</td><td>Radj2    </td><td>1063     </td><td>0.4283797</td></tr>\n",
       "\t<tr><td>platelet </td><td>LMM      </td><td>GWAS     </td><td> 428     </td><td>0.8768171</td></tr>\n",
       "</tbody>\n",
       "</table>\n"
      ],
      "text/latex": [
       "\\begin{tabular}{r|lllll}\n",
       " Phenotype & Method & Resolution & Discoveries & BP.width\\\\\n",
       "\\hline\n",
       "\t platelet  & Knockoffs & Radj2     & 1063      & 0.4283797\\\\\n",
       "\t platelet  & LMM       & GWAS      &  428      & 0.8768171\\\\\n",
       "\\end{tabular}\n"
      ],
      "text/markdown": [
       "\n",
       "| Phenotype | Method | Resolution | Discoveries | BP.width |\n",
       "|---|---|---|---|---|\n",
       "| platelet  | Knockoffs | Radj2     | 1063      | 0.4283797 |\n",
       "| platelet  | LMM       | GWAS      |  428      | 0.8768171 |\n",
       "\n"
      ],
      "text/plain": [
       "  Phenotype Method    Resolution Discoveries BP.width \n",
       "1 platelet  Knockoffs Radj2      1063        0.4283797\n",
       "2 platelet  LMM       GWAS        428        0.8768171"
      ]
     },
     "metadata": {},
     "output_type": "display_data"
    }
   ],
   "source": [
    "# Number of discoveries\n",
    "Discoveries.large %>%\n",
    "    group_by(Phenotype, Method, Resolution) %>%\n",
    "    summarise(Discoveries=n(), BP.width=mean(BP.width)/1e6) %>%\n",
    "    arrange(Phenotype, Method, Resolution)\n",
    "\n",
    "# Consolidate discoveries\n",
    "Discoveries.large.clumped <- Discoveries.large %>% \n",
    "    group_by(Phenotype, Method, Resolution) %>%\n",
    "    consolidate_clumps()\n",
    "\n",
    "# Number of consolidated discoveries\n",
    "Discoveries.large.clumped %>%\n",
    "    summarise(Discoveries=n(), BP.width=mean(BP.width)/1e6) %>%\n",
    "    arrange(Phenotype, Method, Resolution)"
   ]
  },
  {
   "cell_type": "markdown",
   "metadata": {},
   "source": [
    "## Check replicability"
   ]
  },
  {
   "cell_type": "code",
   "execution_count": 9,
   "metadata": {},
   "outputs": [
    {
     "data": {
      "text/html": [
       "2183"
      ],
      "text/latex": [
       "2183"
      ],
      "text/markdown": [
       "2183"
      ],
      "text/plain": [
       "[1] 2183"
      ]
     },
     "metadata": {},
     "output_type": "display_data"
    }
   ],
   "source": [
    "Discoveries.large %>% nrow"
   ]
  },
  {
   "cell_type": "code",
   "execution_count": 10,
   "metadata": {},
   "outputs": [],
   "source": [
    "Discoveries.large.lmm <- Discoveries.large %>% filter(Method==\"LMM\")\n",
    "\n",
    "Discoveries.replicated <- Discoveries %>% \n",
    "    mutate(Replicated=verify_discoveries(CHR, BP.min, BP.max, Discoveries.large.lmm))\n",
    "\n",
    "n.total <- Discoveries.large %>% filter(Method==\"LMM\", Resolution==\"GWAS\") %>% nrow()\n",
    "Replication.table <- Discoveries.replicated %>% \n",
    "    group_by(Phenotype, Method, Significance, Resolution) %>%\n",
    "    summarise(BP.width=mean(BP.width)/1e6, Discoveries=n(),\n",
    "              True=sum(!is.na(Replicated)), False=sum(is.na(Replicated))) %>%\n",
    "    mutate(FDP=False/(True+False), Power=True/n.total)"
   ]
  },
  {
   "cell_type": "code",
   "execution_count": 11,
   "metadata": {},
   "outputs": [
    {
     "data": {
      "text/html": [
       "<table>\n",
       "<thead><tr><th scope=col>Phenotype</th><th scope=col>Method</th><th scope=col>Significance</th><th scope=col>Resolution</th><th scope=col>BP.width</th><th scope=col>Discoveries</th><th scope=col>True</th><th scope=col>False</th><th scope=col>FDP</th><th scope=col>Power</th></tr></thead>\n",
       "<tbody>\n",
       "\t<tr><td>platelet  </td><td>Knockoffs </td><td>FDR       </td><td>Radj2     </td><td>0.3188757 </td><td> 81       </td><td> 74       </td><td>  7       </td><td>0.08641975</td><td>0.10235131</td></tr>\n",
       "\t<tr><td>platelet  </td><td>LMM       </td><td>FDR       </td><td>GWAS      </td><td>0.4333372 </td><td>272       </td><td>168       </td><td>104       </td><td>0.38235294</td><td>0.23236515</td></tr>\n",
       "\t<tr><td>platelet  </td><td>LMM       </td><td>FWER      </td><td>GWAS      </td><td>0.6743524 </td><td> 47       </td><td> 47       </td><td>  0       </td><td>0.00000000</td><td>0.06500692</td></tr>\n",
       "</tbody>\n",
       "</table>\n"
      ],
      "text/latex": [
       "\\begin{tabular}{r|llllllllll}\n",
       " Phenotype & Method & Significance & Resolution & BP.width & Discoveries & True & False & FDP & Power\\\\\n",
       "\\hline\n",
       "\t platelet   & Knockoffs  & FDR        & Radj2      & 0.3188757  &  81        &  74        &   7        & 0.08641975 & 0.10235131\\\\\n",
       "\t platelet   & LMM        & FDR        & GWAS       & 0.4333372  & 272        & 168        & 104        & 0.38235294 & 0.23236515\\\\\n",
       "\t platelet   & LMM        & FWER       & GWAS       & 0.6743524  &  47        &  47        &   0        & 0.00000000 & 0.06500692\\\\\n",
       "\\end{tabular}\n"
      ],
      "text/markdown": [
       "\n",
       "| Phenotype | Method | Significance | Resolution | BP.width | Discoveries | True | False | FDP | Power |\n",
       "|---|---|---|---|---|---|---|---|---|---|\n",
       "| platelet   | Knockoffs  | FDR        | Radj2      | 0.3188757  |  81        |  74        |   7        | 0.08641975 | 0.10235131 |\n",
       "| platelet   | LMM        | FDR        | GWAS       | 0.4333372  | 272        | 168        | 104        | 0.38235294 | 0.23236515 |\n",
       "| platelet   | LMM        | FWER       | GWAS       | 0.6743524  |  47        |  47        |   0        | 0.00000000 | 0.06500692 |\n",
       "\n"
      ],
      "text/plain": [
       "  Phenotype Method    Significance Resolution BP.width  Discoveries True False\n",
       "1 platelet  Knockoffs FDR          Radj2      0.3188757  81          74    7  \n",
       "2 platelet  LMM       FDR          GWAS       0.4333372 272         168  104  \n",
       "3 platelet  LMM       FWER         GWAS       0.6743524  47          47    0  \n",
       "  FDP        Power     \n",
       "1 0.08641975 0.10235131\n",
       "2 0.38235294 0.23236515\n",
       "3 0.00000000 0.06500692"
      ]
     },
     "metadata": {},
     "output_type": "display_data"
    }
   ],
   "source": [
    "# Which phenotypes have at least 10 discoveries with FWER control\n",
    "Replication.table <- Replication.table %>% \n",
    "    group_by(Phenotype) %>%\n",
    "    filter(Significance==\"FWER\", Discoveries>=10) %>%\n",
    "    select(Phenotype) %>%\n",
    "    inner_join(Replication.table, by = \"Phenotype\")\n",
    "Replication.table"
   ]
  },
  {
   "cell_type": "code",
   "execution_count": 12,
   "metadata": {},
   "outputs": [
    {
     "data": {
      "text/plain": [
       "\n",
       "\\begin{tabular}{c|c|c|c|c|c|c|c|c}\n",
       "\\hline\n",
       "Phenotype & Method & Significance & BP.width & Discoveries & True & False & FDP & Power\\\\\n",
       "\\hline\n",
       " & Knockoffs & FDR & 0.319 & 81 & 74 & 7 & 0.086 & 0.102\\\\\n",
       "\n",
       " & LMM & FDR & 0.433 & 272 & 168 & 104 & 0.382 & 0.232\\\\\n",
       "\n",
       "\\multirow{-3}{*}{\\centering\\arraybackslash platelet} & LMM & FWER & 0.674 & 47 & 47 & 0 & 0.000 & 0.065\\\\\n",
       "\\hline\n",
       "\\end{tabular}"
      ]
     },
     "metadata": {},
     "output_type": "display_data"
    }
   ],
   "source": [
    "library(kableExtra)\n",
    "Replication.table %>%\n",
    "    ungroup() %>% select(-Resolution) %>% \n",
    "    kable(format=\"latex\", digits=3, align=\"c\") %>%\n",
    "    collapse_rows(columns = 1, latex_hline = \"major\", valign = \"middle\")"
   ]
  },
  {
   "cell_type": "code",
   "execution_count": null,
   "metadata": {},
   "outputs": [],
   "source": []
  }
 ],
 "metadata": {
  "kernelspec": {
   "display_name": "R",
   "language": "R",
   "name": "ir"
  },
  "language_info": {
   "codemirror_mode": "r",
   "file_extension": ".r",
   "mimetype": "text/x-r-source",
   "name": "R",
   "pygments_lexer": "r",
   "version": "3.5.1"
  }
 },
 "nbformat": 4,
 "nbformat_minor": 2
}
