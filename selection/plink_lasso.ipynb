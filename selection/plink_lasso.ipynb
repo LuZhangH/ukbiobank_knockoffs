{
 "cells": [
  {
   "cell_type": "code",
   "execution_count": 1,
   "metadata": {},
   "outputs": [],
   "source": [
    "phenotype <- \"rd\"\n",
    "clumping <- \"Radj2\""
   ]
  },
  {
   "cell_type": "code",
   "execution_count": 2,
   "metadata": {},
   "outputs": [],
   "source": [
    "suppressMessages(library(tidyverse))\n",
    "suppressMessages(library(snpStats))\n",
    "suppressMessages(library(oem))\n",
    "suppressMessages(library(glmnet))\n",
    "suppressMessages(library(knockoff))"
   ]
  },
  {
   "cell_type": "code",
   "execution_count": 3,
   "metadata": {},
   "outputs": [],
   "source": [
    "K <- 50\n",
    "tmp.dir <- \"/scratch/PI/candes/ukbiobank_tmp\"\n",
    "chr.list <- seq(1,22)\n",
    "n.PCs <- 5"
   ]
  },
  {
   "cell_type": "code",
   "execution_count": 4,
   "metadata": {
    "scrolled": true
   },
   "outputs": [],
   "source": [
    "# Load fam file\n",
    "fam.file <- sprintf(\"%s/knockoffs/%s_K%d/ukb_gen_chr%d.fam\", tmp.dir, clumping, K, 22)\n",
    "Subjects <- read_delim(fam.file, delim=\" \", col_types=cols(),\n",
    "                       col_names = c(\"FID\", \"IID\", \"X1\", \"X2\", \"Sex\", \"X3\"))\n",
    "\n",
    "# Load list of variants\n",
    "Variants <- tibble()\n",
    "for(chr in chr.list) {\n",
    "    key.file <- sprintf(\"%s/knockoffs/%s_K%d/ukb_gen_chr%d.key\", tmp.dir, clumping, K, chr)\n",
    "    Variants.chr <- read_delim(key.file, delim=\" \", col_types=cols())\n",
    "    Variants.chr <- Variants.chr %>% mutate(CHR=Chr) %>% select(CHR, Variant, Position, Group, Knockoff)\n",
    "    colnames(Variants.chr) <- c(\"CHR\", \"SNP\", \"BP\", \"Group\", \"Knockoff\")\n",
    "    Variants <- rbind(Variants, Variants.chr)\n",
    "}\n",
    "\n",
    "# Load p-values from marginal testing\n",
    "Results <- tibble()\n",
    "for(chr in chr.list) {\n",
    "    pvals.file <- sprintf(\"%s/association/%s/%s_K%d/ukb_chr%d.assoc\",\n",
    "                         tmp.dir, phenotype, clumping, K, chr)\n",
    "    Results.chr <- read_table(pvals.file, col_types=cols(), guess_max=5000000)\n",
    "    Results <- rbind(Results, Results.chr)\n",
    "}\n",
    "Results <- Results %>% select(CHR, SNP, BP, P) %>%\n",
    "    inner_join(Variants, by=c(\"CHR\", \"SNP\", \"BP\"))"
   ]
  },
  {
   "cell_type": "code",
   "execution_count": 5,
   "metadata": {},
   "outputs": [
    {
     "name": "stderr",
     "output_type": "stream",
     "text": [
      "Warning message:\n",
      "“Column `SNP` joining character vector and factor, coercing into character vector”"
     ]
    },
    {
     "data": {
      "text/html": [
       "<table>\n",
       "<thead><tr><th scope=col>CHR</th><th scope=col>SNP</th><th scope=col>BP</th><th scope=col>Group</th><th scope=col>Knockoff</th><th scope=col>P</th><th scope=col>Importance</th></tr></thead>\n",
       "<tbody>\n",
       "\t<tr><td> 6             </td><td>Affx-37072023.A</td><td> 32612430      </td><td>272            </td><td>FALSE          </td><td>3.659e-94      </td><td>0.0141280      </td></tr>\n",
       "\t<tr><td>11             </td><td>rs61893460.A   </td><td> 76291154      </td><td>325            </td><td>FALSE          </td><td>1.934e-45      </td><td>0.0135629      </td></tr>\n",
       "\t<tr><td>15             </td><td>rs17293632.A   </td><td> 67442596      </td><td>191            </td><td>FALSE          </td><td>9.657e-41      </td><td>0.0132584      </td></tr>\n",
       "\t<tr><td> 6             </td><td>rs3104413.B    </td><td> 32582650      </td><td>271            </td><td>FALSE          </td><td>1.698e-69      </td><td>0.0124420      </td></tr>\n",
       "\t<tr><td> 5             </td><td>rs1837253.B    </td><td>110401872      </td><td>402            </td><td>FALSE          </td><td>3.756e-31      </td><td>0.0116152      </td></tr>\n",
       "\t<tr><td> 9             </td><td>rs2381416.B    </td><td>  6193455      </td><td> 48            </td><td>FALSE          </td><td>4.454e-50      </td><td>0.0111484      </td></tr>\n",
       "</tbody>\n",
       "</table>\n"
      ],
      "text/latex": [
       "\\begin{tabular}{r|lllllll}\n",
       " CHR & SNP & BP & Group & Knockoff & P & Importance\\\\\n",
       "\\hline\n",
       "\t  6              & Affx-37072023.A &  32612430       & 272             & FALSE           & 3.659e-94       & 0.0141280      \\\\\n",
       "\t 11              & rs61893460.A    &  76291154       & 325             & FALSE           & 1.934e-45       & 0.0135629      \\\\\n",
       "\t 15              & rs17293632.A    &  67442596       & 191             & FALSE           & 9.657e-41       & 0.0132584      \\\\\n",
       "\t  6              & rs3104413.B     &  32582650       & 271             & FALSE           & 1.698e-69       & 0.0124420      \\\\\n",
       "\t  5              & rs1837253.B     & 110401872       & 402             & FALSE           & 3.756e-31       & 0.0116152      \\\\\n",
       "\t  9              & rs2381416.B     &   6193455       &  48             & FALSE           & 4.454e-50       & 0.0111484      \\\\\n",
       "\\end{tabular}\n"
      ],
      "text/markdown": [
       "\n",
       "CHR | SNP | BP | Group | Knockoff | P | Importance | \n",
       "|---|---|---|---|---|---|\n",
       "|  6              | Affx-37072023.A |  32612430       | 272             | FALSE           | 3.659e-94       | 0.0141280       | \n",
       "| 11              | rs61893460.A    |  76291154       | 325             | FALSE           | 1.934e-45       | 0.0135629       | \n",
       "| 15              | rs17293632.A    |  67442596       | 191             | FALSE           | 9.657e-41       | 0.0132584       | \n",
       "|  6              | rs3104413.B     |  32582650       | 271             | FALSE           | 1.698e-69       | 0.0124420       | \n",
       "|  5              | rs1837253.B     | 110401872       | 402             | FALSE           | 3.756e-31       | 0.0116152       | \n",
       "|  9              | rs2381416.B     |   6193455       |  48             | FALSE           | 4.454e-50       | 0.0111484       | \n",
       "\n",
       "\n"
      ],
      "text/plain": [
       "  CHR SNP             BP        Group Knockoff P         Importance\n",
       "1  6  Affx-37072023.A  32612430 272   FALSE    3.659e-94 0.0141280 \n",
       "2 11  rs61893460.A     76291154 325   FALSE    1.934e-45 0.0135629 \n",
       "3 15  rs17293632.A     67442596 191   FALSE    9.657e-41 0.0132584 \n",
       "4  6  rs3104413.B      32582650 271   FALSE    1.698e-69 0.0124420 \n",
       "5  5  rs1837253.B     110401872 402   FALSE    3.756e-31 0.0116152 \n",
       "6  9  rs2381416.B       6193455  48   FALSE    4.454e-50 0.0111484 "
      ]
     },
     "metadata": {},
     "output_type": "display_data"
    }
   ],
   "source": [
    "# Load PLINK lasso results\n",
    "Lasso.fit <- tibble()\n",
    "for(chr in chr.list) {\n",
    "    plink.lasso.file <- sprintf(\"%s/association/%s/%s_K50/ukb_chr%d.lasso\", tmp.dir, phenotype, clumping, chr)\n",
    "    Lasso.fit.chr <- read.table(plink.lasso.file, sep=\"\", header=T) %>% as.tibble() %>%\n",
    "        mutate(Importance = abs(EFFECT)) %>% arrange(desc(Importance))\n",
    "    Lasso.fit <- rbind(Lasso.fit, Lasso.fit.chr)\n",
    "}\n",
    "\n",
    "# Combine results with marginal pvalues\n",
    "Results.lasso <- left_join(Results, Lasso.fit, by=c(\"CHR\", \"SNP\")) %>%\n",
    "    select(CHR, SNP, BP, Group, Knockoff, P, Importance) %>%\n",
    "    arrange(desc(Importance))\n",
    "head(Results.lasso)"
   ]
  },
  {
   "cell_type": "code",
   "execution_count": 11,
   "metadata": {},
   "outputs": [
    {
     "data": {
      "text/html": [
       "<table>\n",
       "<thead><tr><th scope=col>CHR</th><th scope=col>SNP</th><th scope=col>BP</th><th scope=col>Group</th><th scope=col>W</th><th scope=col>Sign.W</th><th scope=col>P</th></tr></thead>\n",
       "<tbody>\n",
       "\t<tr><td>10             </td><td>rs1444782.B    </td><td>  9058671      </td><td> 73            </td><td>0.002587437    </td><td>1              </td><td>6.797e-38      </td></tr>\n",
       "\t<tr><td>11             </td><td>rs61893460.A   </td><td> 76291154      </td><td>325            </td><td>0.002035109    </td><td>1              </td><td>1.934e-45      </td></tr>\n",
       "\t<tr><td> 9             </td><td>rs2381416.B    </td><td>  6193455      </td><td> 48            </td><td>0.001890568    </td><td>1              </td><td>4.454e-50      </td></tr>\n",
       "\t<tr><td> 2             </td><td>rs1106639.A    </td><td>242690675      </td><td>951            </td><td>0.001871233    </td><td>1              </td><td>3.628e-25      </td></tr>\n",
       "\t<tr><td> 2             </td><td>rs72823646.A   </td><td>102954213      </td><td>410            </td><td>0.001691947    </td><td>1              </td><td>2.638e-43      </td></tr>\n",
       "\t<tr><td> 6             </td><td>Affx-37072023.A</td><td> 32612430      </td><td>272            </td><td>0.001688619    </td><td>1              </td><td>3.659e-94      </td></tr>\n",
       "\t<tr><td> 6             </td><td>rs3104413.B    </td><td> 32582650      </td><td>271            </td><td>0.001512015    </td><td>1              </td><td>1.698e-69      </td></tr>\n",
       "\t<tr><td> 5             </td><td>rs2244012.A    </td><td>131901225      </td><td>470            </td><td>0.001429593    </td><td>1              </td><td>1.989e-23      </td></tr>\n",
       "\t<tr><td>12             </td><td>rs1059513.B    </td><td> 57489709      </td><td>243            </td><td>0.001340117    </td><td>1              </td><td>5.397e-22      </td></tr>\n",
       "\t<tr><td>17             </td><td>rs4795399.B    </td><td> 38061439      </td><td>194            </td><td>0.001308154    </td><td>1              </td><td>2.751e-40      </td></tr>\n",
       "</tbody>\n",
       "</table>\n"
      ],
      "text/latex": [
       "\\begin{tabular}{r|lllllll}\n",
       " CHR & SNP & BP & Group & W & Sign.W & P\\\\\n",
       "\\hline\n",
       "\t 10              & rs1444782.B     &   9058671       &  73             & 0.002587437     & 1               & 6.797e-38      \\\\\n",
       "\t 11              & rs61893460.A    &  76291154       & 325             & 0.002035109     & 1               & 1.934e-45      \\\\\n",
       "\t  9              & rs2381416.B     &   6193455       &  48             & 0.001890568     & 1               & 4.454e-50      \\\\\n",
       "\t  2              & rs1106639.A     & 242690675       & 951             & 0.001871233     & 1               & 3.628e-25      \\\\\n",
       "\t  2              & rs72823646.A    & 102954213       & 410             & 0.001691947     & 1               & 2.638e-43      \\\\\n",
       "\t  6              & Affx-37072023.A &  32612430       & 272             & 0.001688619     & 1               & 3.659e-94      \\\\\n",
       "\t  6              & rs3104413.B     &  32582650       & 271             & 0.001512015     & 1               & 1.698e-69      \\\\\n",
       "\t  5              & rs2244012.A     & 131901225       & 470             & 0.001429593     & 1               & 1.989e-23      \\\\\n",
       "\t 12              & rs1059513.B     &  57489709       & 243             & 0.001340117     & 1               & 5.397e-22      \\\\\n",
       "\t 17              & rs4795399.B     &  38061439       & 194             & 0.001308154     & 1               & 2.751e-40      \\\\\n",
       "\\end{tabular}\n"
      ],
      "text/markdown": [
       "\n",
       "CHR | SNP | BP | Group | W | Sign.W | P | \n",
       "|---|---|---|---|---|---|---|---|---|---|\n",
       "| 10              | rs1444782.B     |   9058671       |  73             | 0.002587437     | 1               | 6.797e-38       | \n",
       "| 11              | rs61893460.A    |  76291154       | 325             | 0.002035109     | 1               | 1.934e-45       | \n",
       "|  9              | rs2381416.B     |   6193455       |  48             | 0.001890568     | 1               | 4.454e-50       | \n",
       "|  2              | rs1106639.A     | 242690675       | 951             | 0.001871233     | 1               | 3.628e-25       | \n",
       "|  2              | rs72823646.A    | 102954213       | 410             | 0.001691947     | 1               | 2.638e-43       | \n",
       "|  6              | Affx-37072023.A |  32612430       | 272             | 0.001688619     | 1               | 3.659e-94       | \n",
       "|  6              | rs3104413.B     |  32582650       | 271             | 0.001512015     | 1               | 1.698e-69       | \n",
       "|  5              | rs2244012.A     | 131901225       | 470             | 0.001429593     | 1               | 1.989e-23       | \n",
       "| 12              | rs1059513.B     |  57489709       | 243             | 0.001340117     | 1               | 5.397e-22       | \n",
       "| 17              | rs4795399.B     |  38061439       | 194             | 0.001308154     | 1               | 2.751e-40       | \n",
       "\n",
       "\n"
      ],
      "text/plain": [
       "   CHR SNP             BP        Group W           Sign.W P        \n",
       "1  10  rs1444782.B       9058671  73   0.002587437 1      6.797e-38\n",
       "2  11  rs61893460.A     76291154 325   0.002035109 1      1.934e-45\n",
       "3   9  rs2381416.B       6193455  48   0.001890568 1      4.454e-50\n",
       "4   2  rs1106639.A     242690675 951   0.001871233 1      3.628e-25\n",
       "5   2  rs72823646.A    102954213 410   0.001691947 1      2.638e-43\n",
       "6   6  Affx-37072023.A  32612430 272   0.001688619 1      3.659e-94\n",
       "7   6  rs3104413.B      32582650 271   0.001512015 1      1.698e-69\n",
       "8   5  rs2244012.A     131901225 470   0.001429593 1      1.989e-23\n",
       "9  12  rs1059513.B      57489709 243   0.001340117 1      5.397e-22\n",
       "10 17  rs4795399.B      38061439 194   0.001308154 1      2.751e-40"
      ]
     },
     "metadata": {},
     "output_type": "display_data"
    }
   ],
   "source": [
    "# Compute the knockoff statistics\n",
    "W.group.stats <- function(importance, knockoff) {\n",
    "    Z.X  <- sum(importance[which(knockoff==FALSE)], na.rm=T)\n",
    "    Z.Xk <- sum(importance[which(knockoff==TRUE)], na.rm=T)    \n",
    "    w = (Z.X-Z.Xk) / sqrt(length(importance))\n",
    "}\n",
    "Results.knockoffs <- Results.lasso %>%\n",
    "    group_by(CHR, Group) %>%\n",
    "    summarize(W = W.group.stats(Importance,Knockoff), SNP=SNP[1], BP=BP[1], P=min(P)) %>%\n",
    "    ungroup() %>%\n",
    "    mutate(Sign.W=factor(sign(W),levels=c(-1,0,1))) %>%\n",
    "    arrange(desc(abs(W))) %>%\n",
    "    select(CHR, SNP, BP, Group, W, Sign.W, P)\n",
    "Results.knockoffs %>% head(10)"
   ]
  },
  {
   "cell_type": "code",
   "execution_count": 10,
   "metadata": {},
   "outputs": [
    {
     "name": "stdout",
     "output_type": "stream",
     "text": [
      "Knockoffs selected 157 groups.\n"
     ]
    }
   ],
   "source": [
    "# Select groups with the knockoff filter\n",
    "W.thres <- knockoff.threshold(Results.knockoffs$W, offset=0)\n",
    "Selected.knockoffs <- Results.knockoffs %>% filter(W >= W.thres)\n",
    "cat(sprintf(\"Knockoffs selected %d groups.\\n\", nrow(Selected.knockoffs)))"
   ]
  },
  {
   "cell_type": "code",
   "execution_count": 19,
   "metadata": {},
   "outputs": [
    {
     "name": "stdout",
     "output_type": "stream",
     "text": [
      "Marginal testing selected 130 groups.\n"
     ]
    }
   ],
   "source": [
    "# Select groups with marginal pvalues\n",
    "Selected.marginals <- Results %>% filter(Knockoff==FALSE) %>%\n",
    "    group_by(CHR, Group) %>%\n",
    "    summarise(SNP=SNP[which.min(P)], BP=BP[which.min(P)], P=min(P), Group.size=n()) %>%\n",
    "    select(CHR, SNP, BP, Group, Group.size, P) %>%\n",
    "    filter(P < 5e-8)\n",
    "cat(sprintf(\"Marginal testing selected %d groups.\\n\", nrow(Selected.marginals)))"
   ]
  },
  {
   "cell_type": "code",
   "execution_count": null,
   "metadata": {},
   "outputs": [],
   "source": []
  }
 ],
 "metadata": {
  "kernelspec": {
   "display_name": "R",
   "language": "R",
   "name": "ir"
  },
  "language_info": {
   "codemirror_mode": "r",
   "file_extension": ".r",
   "mimetype": "text/x-r-source",
   "name": "R",
   "pygments_lexer": "r",
   "version": "3.5.1"
  }
 },
 "nbformat": 4,
 "nbformat_minor": 2
}
