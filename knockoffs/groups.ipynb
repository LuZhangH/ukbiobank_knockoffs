{
 "cells": [
  {
   "cell_type": "code",
   "execution_count": 1,
   "metadata": {},
   "outputs": [],
   "source": [
    "suppressMessages(library(tidyverse))\n",
    "dat.dir <- \"/scratch/PI/candes/ukbiobank\"\n",
    "tmp.dir <- \"/scratch/PI/candes/ukbiobank_tmp\"\n",
    "chr <- 22"
   ]
  },
  {
   "cell_type": "code",
   "execution_count": 2,
   "metadata": {},
   "outputs": [
    {
     "name": "stderr",
     "output_type": "stream",
     "text": [
      "Warning message:\n",
      "“Missing column names filled in: 'X9' [9]”"
     ]
    }
   ],
   "source": [
    "# Load list of variants\n",
    "grp.file <- sprintf(\"%s/clumping/Radj%d/grp_chr%d.txt\", tmp.dir, 50, chr)\n",
    "Variants <- read_delim(grp.file, delim=\" \", col_types=cols()) %>% \n",
    "                mutate(CHR=Chr, SNP=Variant, BP=Position) %>% select(CHR, SNP, BP, MAF, Group)\n",
    "\n",
    "# Load sparse covariance matrix\n",
    "corr.filename <- sprintf(\"%s/stats/ukb_gen_chr%s.ld\", tmp.dir, chr)\n",
    "LD <- read_table2(corr.filename, col_types=cols())\n",
    "LD <- filter(LD, BP_A %in% Variants$BP, BP_B %in% Variants$BP)\n",
    "\n",
    "# Load dendrogram\n",
    "dend.filename <- sprintf(\"%s/clumping/Radj/grp_chr%s.RData\", tmp.dir, chr)\n",
    "load(dend.filename)"
   ]
  },
  {
   "cell_type": "code",
   "execution_count": 3,
   "metadata": {},
   "outputs": [],
   "source": [
    "load.groups <- function(resolution) {\n",
    "    groups <- cutree(Sigma.clust, k = round(0.01*resolution*nrow(Variants)))\n",
    "    Variants.res <- mutate(Variants, Group = groups)\n",
    "    Variants.grouped <- Variants.res %>% \n",
    "        mutate(CHR_A=CHR, CHR_B=CHR, BP_A=BP, BP_B=BP, SNP_A=SNP, SNP_B=SNP,\n",
    "               Group_A=Group, Group_B=Group) %>% \n",
    "        select(-c(\"CHR\", \"SNP\", \"BP\", \"Group\"))\n",
    "    \n",
    "    LD.groups <- LD %>% inner_join(select(Variants.grouped, CHR_A, BP_A, SNP_A, Group_A), \n",
    "                                   by=c(\"CHR_A\",\"SNP_A\",\"BP_A\")) %>%\n",
    "    inner_join(select(Variants.grouped, CHR_B, BP_B, SNP_B, Group_B), by=c(\"CHR_B\",\"SNP_B\",\"BP_B\"))\n",
    "    \n",
    "    Representatives <- Variants.res %>% \n",
    "    group_by(CHR, Group) %>% \n",
    "    summarise(SNP=SNP[which.max(MAF)], BP=BP[which.max(MAF)], MAF=max(MAF))\n",
    "    \n",
    "    LD.new <- LD.groups %>% filter(Group_A!=Group_B) %>% gather(BP_A, BP_B, key=Dummy, value=BP) %>% arrange(BP)\n",
    "    Groups <- Representatives %>% left_join(select(LD.new, BP, R2, DP)) %>% group_by(CHR, Group) %>%\n",
    "        summarise(R2=max(R2), DP=max(DP))\n",
    "\n",
    "    Groups$Resolution <- resolution\n",
    "    return(Groups)\n",
    "}"
   ]
  },
  {
   "cell_type": "code",
   "execution_count": null,
   "metadata": {},
   "outputs": [
    {
     "name": "stderr",
     "output_type": "stream",
     "text": [
      "Joining, by = \"BP\"\n",
      "Joining, by = \"BP\"\n"
     ]
    }
   ],
   "source": [
    "Groups <- tibble()\n",
    "for(resolution in c(75,50)) {\n",
    "    Groups.res <- load.groups(resolution)\n",
    "    Groups <- rbind(Groups, Groups.res)\n",
    "}"
   ]
  },
  {
   "cell_type": "code",
   "execution_count": 1,
   "metadata": {},
   "outputs": [
    {
     "ename": "ERROR",
     "evalue": "Error in Groups %>% group_by(Resolution) %>% summarise(Number = n(), R2 = mean(R2), : could not find function \"%>%\"\n",
     "output_type": "error",
     "traceback": [
      "Error in Groups %>% group_by(Resolution) %>% summarise(Number = n(), R2 = mean(R2), : could not find function \"%>%\"\nTraceback:\n"
     ]
    }
   ],
   "source": [
    "Groups %>% group_by(Resolution) %>% summarise(Number=n(), R2=mean(R2), DP=mean(DP))"
   ]
  },
  {
   "cell_type": "code",
   "execution_count": null,
   "metadata": {},
   "outputs": [],
   "source": []
  },
  {
   "cell_type": "code",
   "execution_count": 5,
   "metadata": {},
   "outputs": [
    {
     "name": "stderr",
     "output_type": "stream",
     "text": [
      "Joining, by = \"BP\"\n"
     ]
    },
    {
     "data": {
      "text/html": [
       "<table>\n",
       "<thead><tr><th scope=col>CHR</th><th scope=col>Group</th><th scope=col>R2</th><th scope=col>DP</th></tr></thead>\n",
       "<tbody>\n",
       "\t<tr><td>22       </td><td>1        </td><td>0.0884718</td><td>0.478484 </td></tr>\n",
       "\t<tr><td>22       </td><td>2        </td><td>0.1201630</td><td>0.927543 </td></tr>\n",
       "\t<tr><td>22       </td><td>3        </td><td>0.0408149</td><td>0.784342 </td></tr>\n",
       "\t<tr><td>22       </td><td>4        </td><td>0.1319160</td><td>0.995738 </td></tr>\n",
       "\t<tr><td>22       </td><td>5        </td><td>0.6357950</td><td>0.999284 </td></tr>\n",
       "\t<tr><td>22       </td><td>6        </td><td>0.6421150</td><td>0.994949 </td></tr>\n",
       "</tbody>\n",
       "</table>\n"
      ],
      "text/latex": [
       "\\begin{tabular}{r|llll}\n",
       " CHR & Group & R2 & DP\\\\\n",
       "\\hline\n",
       "\t 22        & 1         & 0.0884718 & 0.478484 \\\\\n",
       "\t 22        & 2         & 0.1201630 & 0.927543 \\\\\n",
       "\t 22        & 3         & 0.0408149 & 0.784342 \\\\\n",
       "\t 22        & 4         & 0.1319160 & 0.995738 \\\\\n",
       "\t 22        & 5         & 0.6357950 & 0.999284 \\\\\n",
       "\t 22        & 6         & 0.6421150 & 0.994949 \\\\\n",
       "\\end{tabular}\n"
      ],
      "text/markdown": [
       "\n",
       "CHR | Group | R2 | DP | \n",
       "|---|---|---|---|---|---|\n",
       "| 22        | 1         | 0.0884718 | 0.478484  | \n",
       "| 22        | 2         | 0.1201630 | 0.927543  | \n",
       "| 22        | 3         | 0.0408149 | 0.784342  | \n",
       "| 22        | 4         | 0.1319160 | 0.995738  | \n",
       "| 22        | 5         | 0.6357950 | 0.999284  | \n",
       "| 22        | 6         | 0.6421150 | 0.994949  | \n",
       "\n",
       "\n"
      ],
      "text/plain": [
       "  CHR Group R2        DP      \n",
       "1 22  1     0.0884718 0.478484\n",
       "2 22  2     0.1201630 0.927543\n",
       "3 22  3     0.0408149 0.784342\n",
       "4 22  4     0.1319160 0.995738\n",
       "5 22  5     0.6357950 0.999284\n",
       "6 22  6     0.6421150 0.994949"
      ]
     },
     "metadata": {},
     "output_type": "display_data"
    }
   ],
   "source": [
    "resolution <- 10\n",
    "groups <- cutree(Sigma.clust, k = round(0.01*resolution*nrow(Variants)))\n",
    "    Variants.res <- mutate(Variants, Group = groups)\n",
    "    Variants.grouped <- Variants.res %>% \n",
    "        mutate(CHR_A=CHR, CHR_B=CHR, BP_A=BP, BP_B=BP, SNP_A=SNP, SNP_B=SNP,\n",
    "               Group_A=Group, Group_B=Group) %>% \n",
    "        select(-c(\"CHR\", \"SNP\", \"BP\", \"Group\"))\n",
    "    \n",
    "    LD.groups <- LD %>% inner_join(select(Variants.grouped, CHR_A, BP_A, SNP_A, Group_A), \n",
    "                                   by=c(\"CHR_A\",\"SNP_A\",\"BP_A\")) %>%\n",
    "    inner_join(select(Variants.grouped, CHR_B, BP_B, SNP_B, Group_B), by=c(\"CHR_B\",\"SNP_B\",\"BP_B\"))\n",
    "    \n",
    "    Representatives <- Variants.res %>% \n",
    "    group_by(CHR, Group) %>% \n",
    "    summarise(SNP=SNP[which.max(MAF)], BP=BP[which.max(MAF)], MAF=max(MAF))\n",
    "    \n",
    "    LD.new <- LD.groups %>% filter(Group_A!=Group_B) %>% gather(BP_A, BP_B, key=Dummy, value=BP) %>% arrange(BP)\n",
    "    Groups <- Representatives %>% left_join(select(LD.new, BP, R2, DP)) %>% group_by(CHR, Group) %>%\n",
    "        summarise(R2=max(R2), DP=max(DP))\n",
    "\n",
    "Groups %>% head()"
   ]
  },
  {
   "cell_type": "code",
   "execution_count": null,
   "metadata": {},
   "outputs": [],
   "source": []
  },
  {
   "cell_type": "code",
   "execution_count": null,
   "metadata": {},
   "outputs": [],
   "source": [
    "install.packages(\"dplyr\")"
   ]
  },
  {
   "cell_type": "code",
   "execution_count": null,
   "metadata": {},
   "outputs": [],
   "source": []
  }
 ],
 "metadata": {
  "kernelspec": {
   "display_name": "R",
   "language": "R",
   "name": "ir"
  },
  "language_info": {
   "codemirror_mode": "r",
   "file_extension": ".r",
   "mimetype": "text/x-r-source",
   "name": "R",
   "pygments_lexer": "r",
   "version": "3.5.1"
  }
 },
 "nbformat": 4,
 "nbformat_minor": 2
}
